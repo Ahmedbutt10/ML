{
  "cells": [
    {
      "cell_type": "markdown",
      "metadata": {
        "id": "view-in-github",
        "colab_type": "text"
      },
      "source": [
        "<a href=\"https://colab.research.google.com/github/Ahmedbutt10/ML/blob/main/Week7_ipynb_txt.ipynb\" target=\"_parent\"><img src=\"https://colab.research.google.com/assets/colab-badge.svg\" alt=\"Open In Colab\"/></a>"
      ]
    },
    {
      "cell_type": "code",
      "execution_count": 1,
      "id": "9f5225b0-5d60-46d9-bd47-7a4e073c5da5",
      "metadata": {
        "colab": {
          "base_uri": "https://localhost:8080/"
        },
        "id": "9f5225b0-5d60-46d9-bd47-7a4e073c5da5",
        "outputId": "40ef667e-eaf9-4208-f3b2-06f6e9f16795"
      },
      "outputs": [
        {
          "output_type": "stream",
          "name": "stdout",
          "text": [
            "sleeping    0.35\n",
            "eating      0.35\n",
            "pooping     0.30\n",
            "Name: states, dtype: float64\n",
            "1.0\n"
          ]
        }
      ],
      "source": [
        "import numpy as np\n",
        "import pandas as pd\n",
        "import networkx as nx\n",
        "import matplotlib.pyplot as plt\n",
        "import pydot\n",
        "%matplotlib inline\n",
        "states = ['sleeping', 'eating', 'pooping']\n",
        "pi = [0.35, 0.35, 0.3]\n",
        "state_space = pd.Series(pi, index=states, name='states')\n",
        "print(state_space)\n",
        "print(state_space.sum())"
      ]
    },
    {
      "cell_type": "code",
      "execution_count": 3,
      "id": "389d8d83-5a89-4ef7-a366-4ffd934a40e8",
      "metadata": {
        "id": "389d8d83-5a89-4ef7-a366-4ffd934a40e8"
      },
      "outputs": [],
      "source": [
        "#!pip install pydot"
      ]
    },
    {
      "cell_type": "code",
      "execution_count": 2,
      "id": "fbcf3a20-6c69-4be2-a050-b8b552ed01bb",
      "metadata": {
        "colab": {
          "base_uri": "https://localhost:8080/"
        },
        "id": "fbcf3a20-6c69-4be2-a050-b8b552ed01bb",
        "outputId": "1bda14d4-9abb-4a86-fc34-a227d8762bb5"
      },
      "outputs": [
        {
          "output_type": "stream",
          "name": "stdout",
          "text": [
            "         sleeping eating pooping\n",
            "sleeping      0.4    0.2     0.4\n",
            "eating       0.45   0.45     0.1\n",
            "pooping      0.45   0.25     0.3\n",
            "\n",
            " [[0.4 0.2 0.4]\n",
            " [0.45 0.45 0.1]\n",
            " [0.45 0.25 0.3]] (3, 3) \n",
            "\n",
            "sleeping    1.0\n",
            "eating      1.0\n",
            "pooping     1.0\n",
            "dtype: object\n"
          ]
        }
      ],
      "source": [
        "q_df = pd.DataFrame(columns=states, index=states)\n",
        "q_df.loc[states[0]] = [0.4, 0.2, 0.4]\n",
        "q_df.loc[states[1]] = [0.45, 0.45, 0.1]\n",
        "q_df.loc[states[2]] = [0.45, 0.25, .3]\n",
        "print(q_df)\n",
        "q = q_df.values\n",
        "print('\\n', q, q.shape, '\\n')\n",
        "print(q_df.sum(axis=1))"
      ]
    },
    {
      "cell_type": "code",
      "execution_count": 4,
      "id": "b58233d9-102f-4506-bea5-48025d8c332a",
      "metadata": {
        "colab": {
          "base_uri": "https://localhost:8080/"
        },
        "id": "b58233d9-102f-4506-bea5-48025d8c332a",
        "outputId": "217c5580-3275-425d-bdf0-71d3bdfb1dd6"
      },
      "outputs": [
        {
          "output_type": "stream",
          "name": "stdout",
          "text": [
            "{('eating', 'eating'): 0.45,\n",
            " ('eating', 'pooping'): 0.1,\n",
            " ('eating', 'sleeping'): 0.45,\n",
            " ('pooping', 'eating'): 0.25,\n",
            " ('pooping', 'pooping'): 0.3,\n",
            " ('pooping', 'sleeping'): 0.45,\n",
            " ('sleeping', 'eating'): 0.2,\n",
            " ('sleeping', 'pooping'): 0.4,\n",
            " ('sleeping', 'sleeping'): 0.4}\n"
          ]
        }
      ],
      "source": [
        "from pprint import pprint\n",
        "def _get_markov_edges(Q):\n",
        "    edges = {}\n",
        "    for col in Q.columns:\n",
        "        for idx in Q.index:\n",
        "            edges[(idx,col)] = Q.loc[idx,col]\n",
        "    return edges\n",
        "edges_wts = _get_markov_edges(q_df)\n",
        "pprint(edges_wts)"
      ]
    },
    {
      "cell_type": "code",
      "execution_count": 6,
      "id": "41e441c7-718f-4f45-bb2f-24447deaa29d",
      "metadata": {
        "id": "41e441c7-718f-4f45-bb2f-24447deaa29d"
      },
      "outputs": [],
      "source": [
        "G = nx.MultiDiGraph()"
      ]
    },
    {
      "cell_type": "code",
      "execution_count": 7,
      "id": "206e22f9-e43e-4d6c-a995-d15a99880701",
      "metadata": {
        "colab": {
          "base_uri": "https://localhost:8080/"
        },
        "id": "206e22f9-e43e-4d6c-a995-d15a99880701",
        "outputId": "ce0decad-19f3-434e-afea-549183fe3f10"
      },
      "outputs": [
        {
          "output_type": "stream",
          "name": "stdout",
          "text": [
            "Nodes:\n",
            "['sleeping', 'eating', 'pooping']\n",
            "\n",
            "Edges:\n",
            "OutMultiEdgeDataView([('sleeping', 'sleeping', {'weight': 0.4, 'label': 0.4}), ('sleeping', 'eating', {'weight': 0.2, 'label': 0.2}), ('sleeping', 'pooping', {'weight': 0.4, 'label': 0.4}), ('eating', 'sleeping', {'weight': 0.45, 'label': 0.45}), ('eating', 'eating', {'weight': 0.45, 'label': 0.45}), ('eating', 'pooping', {'weight': 0.1, 'label': 0.1}), ('pooping', 'sleeping', {'weight': 0.45, 'label': 0.45}), ('pooping', 'eating', {'weight': 0.25, 'label': 0.25}), ('pooping', 'pooping', {'weight': 0.3, 'label': 0.3})])\n"
          ]
        }
      ],
      "source": [
        "G.add_nodes_from(states)\n",
        "print(f'Nodes:\\n{G.nodes()}\\n')\n",
        "\n",
        "for k, v in edges_wts.items():\n",
        "    tmp_origin, tmp_destination = k[0], k[1]\n",
        "    G.add_edge(tmp_origin, tmp_destination, weight=v, label=v)\n",
        "print(f'Edges:')\n",
        "pprint(G.edges(data=True))"
      ]
    },
    {
      "cell_type": "code",
      "execution_count": 8,
      "id": "7f7cca54-a72c-4041-ab5e-0bf9ef9ee16f",
      "metadata": {
        "colab": {
          "base_uri": "https://localhost:8080/"
        },
        "id": "7f7cca54-a72c-4041-ab5e-0bf9ef9ee16f",
        "outputId": "00a17910-3018-4309-8f2f-d4013ada563a"
      },
      "outputs": [
        {
          "output_type": "stream",
          "name": "stdout",
          "text": [
            "healthy    0.5\n",
            "sick       0.5\n",
            "Name: states, dtype: float64\n",
            "\n",
            " 1.0\n"
          ]
        }
      ],
      "source": [
        "hidden_states = ['healthy', 'sick']\n",
        "pi = [0.5, 0.5]\n",
        "state_space = pd.Series(pi, index=hidden_states, name='states')\n",
        "print(state_space)\n",
        "print('\\n', state_space.sum())"
      ]
    },
    {
      "cell_type": "code",
      "execution_count": 9,
      "id": "3f2384db-bf5f-4e7b-ba41-a6af278b5009",
      "metadata": {
        "colab": {
          "base_uri": "https://localhost:8080/"
        },
        "id": "3f2384db-bf5f-4e7b-ba41-a6af278b5009",
        "outputId": "8b9e4ec5-1fab-44ba-9df2-6ced63c30eda"
      },
      "outputs": [
        {
          "output_type": "stream",
          "name": "stdout",
          "text": [
            "        healthy sick\n",
            "healthy     0.7  0.3\n",
            "sick        0.4  0.6\n",
            "\n",
            " [[0.7 0.3]\n",
            " [0.4 0.6]] (2, 2) \n",
            "\n",
            "healthy    1.0\n",
            "sick       1.0\n",
            "dtype: object\n"
          ]
        }
      ],
      "source": [
        "a_df = pd.DataFrame(columns=hidden_states, index=hidden_states)\n",
        "a_df.loc[hidden_states[0]] = [0.7, 0.3]\n",
        "a_df.loc[hidden_states[1]] = [0.4, 0.6]\n",
        "print(a_df)\n",
        "a = a_df.values\n",
        "print('\\n', a, a.shape, '\\n')\n",
        "print(a_df.sum(axis=1))"
      ]
    },
    {
      "cell_type": "code",
      "execution_count": 10,
      "id": "f52f7a6a-0830-4b7f-a37b-23b19aa48e7a",
      "metadata": {
        "colab": {
          "base_uri": "https://localhost:8080/"
        },
        "id": "f52f7a6a-0830-4b7f-a37b-23b19aa48e7a",
        "outputId": "ff73d11f-4450-4bea-c0fd-1a2efdb064a1"
      },
      "outputs": [
        {
          "output_type": "stream",
          "name": "stdout",
          "text": [
            "        sleeping eating pooping\n",
            "healthy      0.2    0.6     0.2\n",
            "sick         0.4    0.1     0.5\n",
            "\n",
            " [[0.2 0.6 0.2]\n",
            " [0.4 0.1 0.5]] (2, 3) \n",
            "\n",
            "healthy    1.0\n",
            "sick       1.0\n",
            "dtype: object\n"
          ]
        }
      ],
      "source": [
        "observable_states = states\n",
        "b_df = pd.DataFrame(columns=observable_states, index=hidden_states)\n",
        "b_df.loc[hidden_states[0]] = [0.2, 0.6, 0.2]\n",
        "b_df.loc[hidden_states[1]] = [0.4, 0.1, 0.5]\n",
        "print(b_df)\n",
        "b = b_df.values\n",
        "print('\\n', b, b.shape, '\\n')\n",
        "print(b_df.sum(axis=1))"
      ]
    },
    {
      "cell_type": "code",
      "execution_count": 11,
      "id": "d1c29ea7-9b27-486f-a939-359486fcb18b",
      "metadata": {
        "colab": {
          "base_uri": "https://localhost:8080/"
        },
        "id": "d1c29ea7-9b27-486f-a939-359486fcb18b",
        "outputId": "4d4cf879-52d4-4ce2-915e-612a94a13363"
      },
      "outputs": [
        {
          "output_type": "stream",
          "name": "stdout",
          "text": [
            "{('healthy', 'healthy'): 0.7,\n",
            " ('healthy', 'sick'): 0.3,\n",
            " ('sick', 'healthy'): 0.4,\n",
            " ('sick', 'sick'): 0.6}\n",
            "{('healthy', 'eating'): 0.6,\n",
            " ('healthy', 'pooping'): 0.2,\n",
            " ('healthy', 'sleeping'): 0.2,\n",
            " ('sick', 'eating'): 0.1,\n",
            " ('sick', 'pooping'): 0.5,\n",
            " ('sick', 'sleeping'): 0.4}\n"
          ]
        }
      ],
      "source": [
        "hide_edges_wts = _get_markov_edges(a_df)\n",
        "pprint(hide_edges_wts)\n",
        "emit_edges_wts = _get_markov_edges(b_df)\n",
        "pprint(emit_edges_wts)"
      ]
    },
    {
      "cell_type": "code",
      "execution_count": 12,
      "id": "8512f569-db9b-46ba-a5f7-b9205ce3eb49",
      "metadata": {
        "colab": {
          "base_uri": "https://localhost:8080/"
        },
        "id": "8512f569-db9b-46ba-a5f7-b9205ce3eb49",
        "outputId": "64e812ef-5397-4bab-8af2-2ebb86b17b3f"
      },
      "outputs": [
        {
          "output_type": "stream",
          "name": "stdout",
          "text": [
            "Nodes:\n",
            "['healthy', 'sick']\n",
            "\n",
            "Edges:\n",
            "OutMultiEdgeDataView([('healthy', 'healthy', {'weight': 0.7, 'label': 0.7}), ('healthy', 'sick', {'weight': 0.3, 'label': 0.3}), ('healthy', 'sleeping', {'weight': 0.2, 'label': 0.2}), ('healthy', 'eating', {'weight': 0.6, 'label': 0.6}), ('healthy', 'pooping', {'weight': 0.2, 'label': 0.2}), ('sick', 'healthy', {'weight': 0.4, 'label': 0.4}), ('sick', 'sick', {'weight': 0.6, 'label': 0.6}), ('sick', 'sleeping', {'weight': 0.4, 'label': 0.4}), ('sick', 'eating', {'weight': 0.1, 'label': 0.1}), ('sick', 'pooping', {'weight': 0.5, 'label': 0.5})])\n"
          ]
        }
      ],
      "source": [
        "G = nx.MultiDiGraph()\n",
        "\n",
        "G.add_nodes_from(hidden_states)\n",
        "print(f'Nodes:\\n{G.nodes()}\\n')\n",
        "\n",
        "for k, v in hide_edges_wts.items():\n",
        "    tmp_origin, tmp_destination = k[0], k[1]\n",
        "    G.add_edge(tmp_origin, tmp_destination, weight=v, label=v)\n",
        "\n",
        "for k, v in emit_edges_wts.items():\n",
        "    tmp_origin, tmp_destination = k[0], k[1]\n",
        "    G.add_edge(tmp_origin, tmp_destination, weight=v, label=v)\n",
        "\n",
        "print(f'Edges:')\n",
        "pprint(G.edges(data=True))"
      ]
    },
    {
      "cell_type": "code",
      "execution_count": 13,
      "id": "718cfd46-ec0e-4d16-a587-6becb338d6e7",
      "metadata": {
        "colab": {
          "base_uri": "https://localhost:8080/"
        },
        "id": "718cfd46-ec0e-4d16-a587-6becb338d6e7",
        "outputId": "47f7ecc3-3bba-4dbf-c471-9290387d16cf"
      },
      "outputs": [
        {
          "output_type": "stream",
          "name": "stdout",
          "text": [
            "   Obs_code   Obs_seq\n",
            "0         1    eating\n",
            "1         1    eating\n",
            "2         2   pooping\n",
            "3         1    eating\n",
            "4         0  sleeping\n",
            "5         1    eating\n",
            "6         2   pooping\n",
            "7         1    eating\n",
            "8         0  sleeping\n",
            "9         2   pooping\n",
            "10        2   pooping\n",
            "11        0  sleeping\n",
            "12        1    eating\n",
            "13        0  sleeping\n",
            "14        1    eating\n"
          ]
        }
      ],
      "source": [
        "obs_map = {'sleeping':0, 'eating':1, 'pooping':2}\n",
        "obs = np.array([1,1,2,1,0,1,2,1,0,2,2,0,1,0,1])\n",
        "\n",
        "inv_obs_map = dict((v,k) for k, v in obs_map.items())\n",
        "obs_seq = [inv_obs_map[v] for v in list(obs)]\n",
        "\n",
        "print( pd.DataFrame(np.column_stack([obs, obs_seq]),\n",
        "                    columns=['Obs_code', 'Obs_seq']) )"
      ]
    },
    {
      "cell_type": "code",
      "execution_count": 14,
      "id": "8e895a89-ab62-4163-a3c4-5d0fcfd0bcf3",
      "metadata": {
        "colab": {
          "base_uri": "https://localhost:8080/"
        },
        "id": "8e895a89-ab62-4163-a3c4-5d0fcfd0bcf3",
        "outputId": "21eec487-25b3-48bc-d745-c200bf54bf82"
      },
      "outputs": [
        {
          "output_type": "stream",
          "name": "stdout",
          "text": [
            "\n",
            "Start Walk Forward\n",
            "\n",
            "s=0 and t=1: phi[0, 1] = 0.0\n",
            "s=1 and t=1: phi[1, 1] = 0.0\n",
            "s=0 and t=2: phi[0, 2] = 0.0\n",
            "s=1 and t=2: phi[1, 2] = 0.0\n",
            "s=0 and t=3: phi[0, 3] = 0.0\n",
            "s=1 and t=3: phi[1, 3] = 1.0\n",
            "s=0 and t=4: phi[0, 4] = 0.0\n",
            "s=1 and t=4: phi[1, 4] = 0.0\n",
            "s=0 and t=5: phi[0, 5] = 0.0\n",
            "s=1 and t=5: phi[1, 5] = 1.0\n",
            "s=0 and t=6: phi[0, 6] = 0.0\n",
            "s=1 and t=6: phi[1, 6] = 0.0\n",
            "s=0 and t=7: phi[0, 7] = 0.0\n",
            "s=1 and t=7: phi[1, 7] = 1.0\n",
            "s=0 and t=8: phi[0, 8] = 0.0\n",
            "s=1 and t=8: phi[1, 8] = 0.0\n",
            "s=0 and t=9: phi[0, 9] = 0.0\n",
            "s=1 and t=9: phi[1, 9] = 1.0\n",
            "s=0 and t=10: phi[0, 10] = 1.0\n",
            "s=1 and t=10: phi[1, 10] = 1.0\n",
            "s=0 and t=11: phi[0, 11] = 1.0\n",
            "s=1 and t=11: phi[1, 11] = 1.0\n",
            "s=0 and t=12: phi[0, 12] = 1.0\n",
            "s=1 and t=12: phi[1, 12] = 1.0\n",
            "s=0 and t=13: phi[0, 13] = 0.0\n",
            "s=1 and t=13: phi[1, 13] = 0.0\n",
            "s=0 and t=14: phi[0, 14] = 0.0\n",
            "s=1 and t=14: phi[1, 14] = 1.0\n",
            "--------------------------------------------------\n",
            "Start Backtrace\n",
            "\n",
            "path[13] = 0.0\n",
            "path[12] = 0.0\n",
            "path[11] = 1.0\n",
            "path[10] = 1.0\n",
            "path[9] = 1.0\n",
            "path[8] = 1.0\n",
            "path[7] = 0.0\n",
            "path[6] = 0.0\n",
            "path[5] = 0.0\n",
            "path[4] = 0.0\n",
            "path[3] = 0.0\n",
            "path[2] = 0.0\n",
            "path[1] = 0.0\n",
            "path[0] = 0.0\n",
            "\n",
            "single best state path: \n",
            " [0. 0. 0. 0. 0. 0. 0. 0. 1. 1. 1. 1. 0. 0. 0.]\n",
            "delta:\n",
            " [[3.00000000e-01 1.26000000e-01 1.76400000e-02 7.40880000e-03\n",
            "  1.03723200e-03 4.35637440e-04 6.09892416e-05 2.56154815e-05\n",
            "  3.58616741e-06 5.02063437e-07 7.37725866e-08 2.21317760e-08\n",
            "  1.59348787e-08 2.23088302e-09 9.36970868e-10]\n",
            " [5.00000000e-02 9.00000000e-03 1.89000000e-02 1.13400000e-03\n",
            "  8.89056000e-04 5.33433600e-05 6.53456160e-05 3.92073696e-06\n",
            "  3.07385778e-06 9.22157333e-07 2.76647200e-07 6.63953280e-08\n",
            "  3.98371968e-09 1.91218545e-09 1.14731127e-10]]\n",
            "phi:\n",
            " [[0. 0. 0. 0. 0. 0. 0. 0. 0. 0. 1. 1. 1. 0. 0.]\n",
            " [0. 0. 0. 1. 0. 1. 0. 1. 0. 1. 1. 1. 1. 0. 1.]]\n"
          ]
        },
        {
          "output_type": "stream",
          "name": "stderr",
          "text": [
            "<ipython-input-14-be88e3c4f67d>:24: DeprecationWarning: Conversion of an array with ndim > 0 to a scalar is deprecated, and will error in future. Ensure you extract a single element from your array before performing this operation. (Deprecated NumPy 1.25.)\n",
            "  path[t] = phi[int(path[t+1]), [t+1]]\n"
          ]
        }
      ],
      "source": [
        "def viterbi(pi, a, b, obs):\n",
        "\n",
        "    nStates = np.shape(b)[0]\n",
        "    T = np.shape(obs)[0]\n",
        "    path = np.zeros(T)\n",
        "    delta = np.zeros((nStates, T))\n",
        "    phi = np.zeros((nStates, T))\n",
        "\n",
        "    delta[:, 0] = pi * b[:, obs[0]]\n",
        "    phi[:, 0] = 0\n",
        "    print('\\nStart Walk Forward\\n')\n",
        "\n",
        "    for t in range(1, T):\n",
        "        for s in range(nStates):\n",
        "            delta[s, t] = np.max(delta[:, t-1] * a[:, s]) * b[s, obs[t]]\n",
        "            phi[s, t] = np.argmax(delta[:, t-1] * a[:, s])\n",
        "            print('s={s} and t={t}: phi[{s}, {t}] = {phi}'\n",
        "                  .format(s=s, t=t, phi=phi[s, t]))\n",
        "    print('-'*50)\n",
        "    print('Start Backtrace\\n')\n",
        "    path[T-1] = np.argmax(delta[:, T-1])\n",
        "\n",
        "    for t in range(T-2, -1, -1):\n",
        "        path[t] = phi[int(path[t+1]), [t+1]]\n",
        "        print('path[{}] = {}'.format(t, path[t]))\n",
        "\n",
        "    return path, delta, phi\n",
        "path, delta, phi = viterbi(pi, a, b, obs)\n",
        "print('\\nsingle best state path: \\n', path)\n",
        "print('delta:\\n', delta)\n",
        "print('phi:\\n', phi)"
      ]
    },
    {
      "cell_type": "code",
      "execution_count": 15,
      "id": "9e3395f6-d03e-4fc4-a195-9d903943f6f2",
      "metadata": {
        "colab": {
          "base_uri": "https://localhost:8080/",
          "height": 520
        },
        "id": "9e3395f6-d03e-4fc4-a195-9d903943f6f2",
        "outputId": "fd70442d-d9cd-4882-e454-adcf1b61be87"
      },
      "outputs": [
        {
          "output_type": "execute_result",
          "data": {
            "text/plain": [
              "   Observation Best_Path\n",
              "0       eating   healthy\n",
              "1       eating   healthy\n",
              "2      pooping   healthy\n",
              "3       eating   healthy\n",
              "4     sleeping   healthy\n",
              "5       eating   healthy\n",
              "6      pooping   healthy\n",
              "7       eating   healthy\n",
              "8     sleeping      sick\n",
              "9      pooping      sick\n",
              "10     pooping      sick\n",
              "11    sleeping      sick\n",
              "12      eating   healthy\n",
              "13    sleeping   healthy\n",
              "14      eating   healthy"
            ],
            "text/html": [
              "\n",
              "  <div id=\"df-fb9a6b91-d0d2-4c05-9c12-bb094408f21c\" class=\"colab-df-container\">\n",
              "    <div>\n",
              "<style scoped>\n",
              "    .dataframe tbody tr th:only-of-type {\n",
              "        vertical-align: middle;\n",
              "    }\n",
              "\n",
              "    .dataframe tbody tr th {\n",
              "        vertical-align: top;\n",
              "    }\n",
              "\n",
              "    .dataframe thead th {\n",
              "        text-align: right;\n",
              "    }\n",
              "</style>\n",
              "<table border=\"1\" class=\"dataframe\">\n",
              "  <thead>\n",
              "    <tr style=\"text-align: right;\">\n",
              "      <th></th>\n",
              "      <th>Observation</th>\n",
              "      <th>Best_Path</th>\n",
              "    </tr>\n",
              "  </thead>\n",
              "  <tbody>\n",
              "    <tr>\n",
              "      <th>0</th>\n",
              "      <td>eating</td>\n",
              "      <td>healthy</td>\n",
              "    </tr>\n",
              "    <tr>\n",
              "      <th>1</th>\n",
              "      <td>eating</td>\n",
              "      <td>healthy</td>\n",
              "    </tr>\n",
              "    <tr>\n",
              "      <th>2</th>\n",
              "      <td>pooping</td>\n",
              "      <td>healthy</td>\n",
              "    </tr>\n",
              "    <tr>\n",
              "      <th>3</th>\n",
              "      <td>eating</td>\n",
              "      <td>healthy</td>\n",
              "    </tr>\n",
              "    <tr>\n",
              "      <th>4</th>\n",
              "      <td>sleeping</td>\n",
              "      <td>healthy</td>\n",
              "    </tr>\n",
              "    <tr>\n",
              "      <th>5</th>\n",
              "      <td>eating</td>\n",
              "      <td>healthy</td>\n",
              "    </tr>\n",
              "    <tr>\n",
              "      <th>6</th>\n",
              "      <td>pooping</td>\n",
              "      <td>healthy</td>\n",
              "    </tr>\n",
              "    <tr>\n",
              "      <th>7</th>\n",
              "      <td>eating</td>\n",
              "      <td>healthy</td>\n",
              "    </tr>\n",
              "    <tr>\n",
              "      <th>8</th>\n",
              "      <td>sleeping</td>\n",
              "      <td>sick</td>\n",
              "    </tr>\n",
              "    <tr>\n",
              "      <th>9</th>\n",
              "      <td>pooping</td>\n",
              "      <td>sick</td>\n",
              "    </tr>\n",
              "    <tr>\n",
              "      <th>10</th>\n",
              "      <td>pooping</td>\n",
              "      <td>sick</td>\n",
              "    </tr>\n",
              "    <tr>\n",
              "      <th>11</th>\n",
              "      <td>sleeping</td>\n",
              "      <td>sick</td>\n",
              "    </tr>\n",
              "    <tr>\n",
              "      <th>12</th>\n",
              "      <td>eating</td>\n",
              "      <td>healthy</td>\n",
              "    </tr>\n",
              "    <tr>\n",
              "      <th>13</th>\n",
              "      <td>sleeping</td>\n",
              "      <td>healthy</td>\n",
              "    </tr>\n",
              "    <tr>\n",
              "      <th>14</th>\n",
              "      <td>eating</td>\n",
              "      <td>healthy</td>\n",
              "    </tr>\n",
              "  </tbody>\n",
              "</table>\n",
              "</div>\n",
              "    <div class=\"colab-df-buttons\">\n",
              "\n",
              "  <div class=\"colab-df-container\">\n",
              "    <button class=\"colab-df-convert\" onclick=\"convertToInteractive('df-fb9a6b91-d0d2-4c05-9c12-bb094408f21c')\"\n",
              "            title=\"Convert this dataframe to an interactive table.\"\n",
              "            style=\"display:none;\">\n",
              "\n",
              "  <svg xmlns=\"http://www.w3.org/2000/svg\" height=\"24px\" viewBox=\"0 -960 960 960\">\n",
              "    <path d=\"M120-120v-720h720v720H120Zm60-500h600v-160H180v160Zm220 220h160v-160H400v160Zm0 220h160v-160H400v160ZM180-400h160v-160H180v160Zm440 0h160v-160H620v160ZM180-180h160v-160H180v160Zm440 0h160v-160H620v160Z\"/>\n",
              "  </svg>\n",
              "    </button>\n",
              "\n",
              "  <style>\n",
              "    .colab-df-container {\n",
              "      display:flex;\n",
              "      gap: 12px;\n",
              "    }\n",
              "\n",
              "    .colab-df-convert {\n",
              "      background-color: #E8F0FE;\n",
              "      border: none;\n",
              "      border-radius: 50%;\n",
              "      cursor: pointer;\n",
              "      display: none;\n",
              "      fill: #1967D2;\n",
              "      height: 32px;\n",
              "      padding: 0 0 0 0;\n",
              "      width: 32px;\n",
              "    }\n",
              "\n",
              "    .colab-df-convert:hover {\n",
              "      background-color: #E2EBFA;\n",
              "      box-shadow: 0px 1px 2px rgba(60, 64, 67, 0.3), 0px 1px 3px 1px rgba(60, 64, 67, 0.15);\n",
              "      fill: #174EA6;\n",
              "    }\n",
              "\n",
              "    .colab-df-buttons div {\n",
              "      margin-bottom: 4px;\n",
              "    }\n",
              "\n",
              "    [theme=dark] .colab-df-convert {\n",
              "      background-color: #3B4455;\n",
              "      fill: #D2E3FC;\n",
              "    }\n",
              "\n",
              "    [theme=dark] .colab-df-convert:hover {\n",
              "      background-color: #434B5C;\n",
              "      box-shadow: 0px 1px 3px 1px rgba(0, 0, 0, 0.15);\n",
              "      filter: drop-shadow(0px 1px 2px rgba(0, 0, 0, 0.3));\n",
              "      fill: #FFFFFF;\n",
              "    }\n",
              "  </style>\n",
              "\n",
              "    <script>\n",
              "      const buttonEl =\n",
              "        document.querySelector('#df-fb9a6b91-d0d2-4c05-9c12-bb094408f21c button.colab-df-convert');\n",
              "      buttonEl.style.display =\n",
              "        google.colab.kernel.accessAllowed ? 'block' : 'none';\n",
              "\n",
              "      async function convertToInteractive(key) {\n",
              "        const element = document.querySelector('#df-fb9a6b91-d0d2-4c05-9c12-bb094408f21c');\n",
              "        const dataTable =\n",
              "          await google.colab.kernel.invokeFunction('convertToInteractive',\n",
              "                                                    [key], {});\n",
              "        if (!dataTable) return;\n",
              "\n",
              "        const docLinkHtml = 'Like what you see? Visit the ' +\n",
              "          '<a target=\"_blank\" href=https://colab.research.google.com/notebooks/data_table.ipynb>data table notebook</a>'\n",
              "          + ' to learn more about interactive tables.';\n",
              "        element.innerHTML = '';\n",
              "        dataTable['output_type'] = 'display_data';\n",
              "        await google.colab.output.renderOutput(dataTable, element);\n",
              "        const docLink = document.createElement('div');\n",
              "        docLink.innerHTML = docLinkHtml;\n",
              "        element.appendChild(docLink);\n",
              "      }\n",
              "    </script>\n",
              "  </div>\n",
              "\n",
              "\n",
              "<div id=\"df-d6369b98-e8ce-496b-92b5-52c8974b616d\">\n",
              "  <button class=\"colab-df-quickchart\" onclick=\"quickchart('df-d6369b98-e8ce-496b-92b5-52c8974b616d')\"\n",
              "            title=\"Suggest charts\"\n",
              "            style=\"display:none;\">\n",
              "\n",
              "<svg xmlns=\"http://www.w3.org/2000/svg\" height=\"24px\"viewBox=\"0 0 24 24\"\n",
              "     width=\"24px\">\n",
              "    <g>\n",
              "        <path d=\"M19 3H5c-1.1 0-2 .9-2 2v14c0 1.1.9 2 2 2h14c1.1 0 2-.9 2-2V5c0-1.1-.9-2-2-2zM9 17H7v-7h2v7zm4 0h-2V7h2v10zm4 0h-2v-4h2v4z\"/>\n",
              "    </g>\n",
              "</svg>\n",
              "  </button>\n",
              "\n",
              "<style>\n",
              "  .colab-df-quickchart {\n",
              "      --bg-color: #E8F0FE;\n",
              "      --fill-color: #1967D2;\n",
              "      --hover-bg-color: #E2EBFA;\n",
              "      --hover-fill-color: #174EA6;\n",
              "      --disabled-fill-color: #AAA;\n",
              "      --disabled-bg-color: #DDD;\n",
              "  }\n",
              "\n",
              "  [theme=dark] .colab-df-quickchart {\n",
              "      --bg-color: #3B4455;\n",
              "      --fill-color: #D2E3FC;\n",
              "      --hover-bg-color: #434B5C;\n",
              "      --hover-fill-color: #FFFFFF;\n",
              "      --disabled-bg-color: #3B4455;\n",
              "      --disabled-fill-color: #666;\n",
              "  }\n",
              "\n",
              "  .colab-df-quickchart {\n",
              "    background-color: var(--bg-color);\n",
              "    border: none;\n",
              "    border-radius: 50%;\n",
              "    cursor: pointer;\n",
              "    display: none;\n",
              "    fill: var(--fill-color);\n",
              "    height: 32px;\n",
              "    padding: 0;\n",
              "    width: 32px;\n",
              "  }\n",
              "\n",
              "  .colab-df-quickchart:hover {\n",
              "    background-color: var(--hover-bg-color);\n",
              "    box-shadow: 0 1px 2px rgba(60, 64, 67, 0.3), 0 1px 3px 1px rgba(60, 64, 67, 0.15);\n",
              "    fill: var(--button-hover-fill-color);\n",
              "  }\n",
              "\n",
              "  .colab-df-quickchart-complete:disabled,\n",
              "  .colab-df-quickchart-complete:disabled:hover {\n",
              "    background-color: var(--disabled-bg-color);\n",
              "    fill: var(--disabled-fill-color);\n",
              "    box-shadow: none;\n",
              "  }\n",
              "\n",
              "  .colab-df-spinner {\n",
              "    border: 2px solid var(--fill-color);\n",
              "    border-color: transparent;\n",
              "    border-bottom-color: var(--fill-color);\n",
              "    animation:\n",
              "      spin 1s steps(1) infinite;\n",
              "  }\n",
              "\n",
              "  @keyframes spin {\n",
              "    0% {\n",
              "      border-color: transparent;\n",
              "      border-bottom-color: var(--fill-color);\n",
              "      border-left-color: var(--fill-color);\n",
              "    }\n",
              "    20% {\n",
              "      border-color: transparent;\n",
              "      border-left-color: var(--fill-color);\n",
              "      border-top-color: var(--fill-color);\n",
              "    }\n",
              "    30% {\n",
              "      border-color: transparent;\n",
              "      border-left-color: var(--fill-color);\n",
              "      border-top-color: var(--fill-color);\n",
              "      border-right-color: var(--fill-color);\n",
              "    }\n",
              "    40% {\n",
              "      border-color: transparent;\n",
              "      border-right-color: var(--fill-color);\n",
              "      border-top-color: var(--fill-color);\n",
              "    }\n",
              "    60% {\n",
              "      border-color: transparent;\n",
              "      border-right-color: var(--fill-color);\n",
              "    }\n",
              "    80% {\n",
              "      border-color: transparent;\n",
              "      border-right-color: var(--fill-color);\n",
              "      border-bottom-color: var(--fill-color);\n",
              "    }\n",
              "    90% {\n",
              "      border-color: transparent;\n",
              "      border-bottom-color: var(--fill-color);\n",
              "    }\n",
              "  }\n",
              "</style>\n",
              "\n",
              "  <script>\n",
              "    async function quickchart(key) {\n",
              "      const quickchartButtonEl =\n",
              "        document.querySelector('#' + key + ' button');\n",
              "      quickchartButtonEl.disabled = true;  // To prevent multiple clicks.\n",
              "      quickchartButtonEl.classList.add('colab-df-spinner');\n",
              "      try {\n",
              "        const charts = await google.colab.kernel.invokeFunction(\n",
              "            'suggestCharts', [key], {});\n",
              "      } catch (error) {\n",
              "        console.error('Error during call to suggestCharts:', error);\n",
              "      }\n",
              "      quickchartButtonEl.classList.remove('colab-df-spinner');\n",
              "      quickchartButtonEl.classList.add('colab-df-quickchart-complete');\n",
              "    }\n",
              "    (() => {\n",
              "      let quickchartButtonEl =\n",
              "        document.querySelector('#df-d6369b98-e8ce-496b-92b5-52c8974b616d button');\n",
              "      quickchartButtonEl.style.display =\n",
              "        google.colab.kernel.accessAllowed ? 'block' : 'none';\n",
              "    })();\n",
              "  </script>\n",
              "</div>\n",
              "\n",
              "    </div>\n",
              "  </div>\n"
            ],
            "application/vnd.google.colaboratory.intrinsic+json": {
              "type": "dataframe",
              "summary": "{\n  \"name\": \"\",\n  \"rows\": 15,\n  \"fields\": [\n    {\n      \"column\": \"Observation\",\n      \"properties\": {\n        \"dtype\": \"category\",\n        \"num_unique_values\": 3,\n        \"samples\": [\n          \"eating\",\n          \"pooping\",\n          \"sleeping\"\n        ],\n        \"semantic_type\": \"\",\n        \"description\": \"\"\n      }\n    },\n    {\n      \"column\": \"Best_Path\",\n      \"properties\": {\n        \"dtype\": \"category\",\n        \"num_unique_values\": 2,\n        \"samples\": [\n          \"sick\",\n          \"healthy\"\n        ],\n        \"semantic_type\": \"\",\n        \"description\": \"\"\n      }\n    }\n  ]\n}"
            }
          },
          "metadata": {},
          "execution_count": 15
        }
      ],
      "source": [
        "state_map = {0:'healthy', 1:'sick'}\n",
        "state_path = [state_map[v] for v in path]\n",
        "(pd.DataFrame()\n",
        ".assign(Observation=obs_seq)\n",
        ".assign(Best_Path=state_path))"
      ]
    }
  ],
  "metadata": {
    "kernelspec": {
      "display_name": "Python [conda env:base] *",
      "language": "python",
      "name": "conda-base-py"
    },
    "language_info": {
      "codemirror_mode": {
        "name": "ipython",
        "version": 3
      },
      "file_extension": ".py",
      "mimetype": "text/x-python",
      "name": "python",
      "nbconvert_exporter": "python",
      "pygments_lexer": "ipython3",
      "version": "3.12.7"
    },
    "colab": {
      "provenance": [],
      "include_colab_link": true
    }
  },
  "nbformat": 4,
  "nbformat_minor": 5
}